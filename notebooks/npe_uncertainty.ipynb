{
 "cells": [
  {
   "cell_type": "code",
   "execution_count": 1,
   "metadata": {},
   "outputs": [
    {
     "name": "stdout",
     "output_type": "stream",
     "text": [
      "pygame 1.9.6\n",
      "Hello from the pygame community. https://www.pygame.org/contribute.html\n",
      "Loading chipmunk for Linux (64bit) [/home/shreyask/anaconda3/envs/tensorflow2/lib/python3.7/site-packages/pymunk/libchipmunk.so]\n"
     ]
    }
   ],
   "source": [
    "%load_ext autoreload\n",
    "%autoreload 2\n",
    "\n",
    "import tensorflow as tf\n",
    "import numpy as np\n",
    "import matplotlib.pyplot as plt\n",
    "import pickle\n",
    "import tqdm\n",
    "import random\n",
    "\n",
    "from experiments.npe.model import get_npe_model\n",
    "from experiments.npe_bt.simulate import show_simulation"
   ]
  },
  {
   "cell_type": "code",
   "execution_count": 2,
   "metadata": {},
   "outputs": [],
   "source": [
    "data = np.load('data/circles_uc1.npz', allow_pickle=True)\n",
    "\n",
    "train_x = []\n",
    "val_x = []\n",
    "\n",
    "for i in range((data['config'].item()['num_objects'] - 1) * 2 + 1):\n",
    "    train_x.append(data['arr_%i' % (i)])\n",
    "    val_x.append(data['arr_%i' % (i + (data['config'].item()['num_objects'] - 1) * 2 + 1)])\n",
    "    \n",
    "train_y = data['train_y']\n",
    "val_y = data['val_y']"
   ]
  },
  {
   "cell_type": "code",
   "execution_count": 80,
   "metadata": {},
   "outputs": [],
   "source": []
  },
  {
   "cell_type": "code",
   "execution_count": null,
   "metadata": {},
   "outputs": [
    {
     "name": "stdout",
     "output_type": "stream",
     "text": [
      "Iteration 0, Vanilla: 0.025608, UC: 0.026390, (50)\n",
      "Iteration 1, Vanilla: 0.025373, UC: 0.025703, (100)\n",
      "Iteration 2, Vanilla: 0.025314, UC: 0.025129, (150)\n",
      "Iteration 3, Vanilla: 0.025328, UC: 0.024758, (200)\n",
      "Iteration 4, Vanilla: 0.025325, UC: 0.024663, (250)\n",
      "Iteration 5, Vanilla: 0.025358, UC: 0.024524, (300)\n",
      "Iteration 6, Vanilla: 0.025264, UC: 0.024303, (350)\n",
      "Iteration 7, Vanilla: 0.025239, UC: 0.024237, (400)\n",
      "Iteration 8, Vanilla: 0.024881, UC: 0.024327, (450)\n",
      "Iteration 9, Vanilla: 0.024625, UC: 0.023810, (500)\n",
      "Iteration 10, Vanilla: 0.024372, UC: 0.023763, (550)\n",
      "Iteration 11, Vanilla: 0.024115, UC: 0.023567, (600)\n",
      "Iteration 12, Vanilla: 0.023956, UC: 0.023678, (650)\n",
      "Iteration 13, Vanilla: 0.023812, UC: 0.023333, (700)\n",
      "Iteration 14, Vanilla: 0.023705, UC: 0.023188, (750)\n",
      "Iteration 15, Vanilla: 0.023546, UC: 0.023223, (800)\n",
      "Iteration 16, Vanilla: 0.023406, UC: 0.023075, (850)\n",
      "Iteration 17, Vanilla: 0.023169, UC: 0.022942, (900)\n",
      "Iteration 18, Vanilla: 0.023049, UC: 0.022759, (950)\n",
      "Iteration 19, Vanilla: 0.023061, UC: 0.022772, (1000)\n",
      "Iteration 20, Vanilla: 0.023109, UC: 0.022582, (1050)\n",
      "Iteration 21, Vanilla: 0.022835, UC: 0.022458, (1100)\n",
      "Iteration 22, Vanilla: 0.022698, UC: 0.022361, (1150)\n",
      "Iteration 23, Vanilla: 0.022655, UC: 0.022154, (1200)\n",
      "Iteration 24, Vanilla: 0.022388, UC: 0.022171, (1250)\n",
      "Iteration 25, Vanilla: 0.022261, UC: 0.022034, (1300)\n",
      "Iteration 26, Vanilla: 0.022406, UC: 0.021532, (1350)\n",
      "Iteration 27, Vanilla: 0.021789, UC: 0.021927, (1400)\n",
      "Iteration 28, Vanilla: 0.021848, UC: 0.021131, (1450)\n",
      "Iteration 29, Vanilla: 0.021629, UC: 0.021081, (1500)\n",
      "Iteration 30, Vanilla: 0.021335, UC: 0.020693, (1550)\n",
      "Iteration 31, Vanilla: 0.021158, UC: 0.020591, (1600)\n",
      "Iteration 32, Vanilla: 0.021242, UC: 0.020629, (1650)\n",
      "Iteration 33, Vanilla: 0.021222, UC: 0.020276, (1700)\n",
      "Iteration 34, Vanilla: 0.021237, UC: 0.020318, (1750)\n",
      "Iteration 35, Vanilla: 0.020557, UC: 0.019925, (1800)\n",
      "Iteration 36, Vanilla: 0.020329, UC: 0.019758, (1850)\n",
      "Iteration 37, Vanilla: 0.020844, UC: 0.020218, (1900)\n",
      "Iteration 38, Vanilla: 0.020261, UC: 0.019581, (1950)\n",
      "Iteration 39, Vanilla: 0.020427, UC: 0.019719, (2000)\n",
      "Iteration 40, Vanilla: 0.020878, UC: 0.019300, (2050)\n",
      "Iteration 41, Vanilla: 0.021324, UC: 0.019316, (2100)\n",
      "Iteration 42, Vanilla: 0.019813, UC: 0.019321, (2150)\n",
      "Iteration 43, Vanilla: 0.019979, UC: 0.019501, (2200)\n",
      "Iteration 44, Vanilla: 0.019475, UC: 0.019659, (2250)\n",
      "Iteration 45, Vanilla: 0.020039, UC: 0.019070, (2300)\n",
      "Iteration 46, Vanilla: 0.019297, UC: 0.018741, (2350)\n",
      "Iteration 47, Vanilla: 0.019458, UC: 0.020119, (2400)\n",
      "Iteration 48, Vanilla: 0.018962, UC: 0.018500, (2450)\n",
      "Iteration 49, Vanilla: 0.018732, UC: 0.018074, (2500)\n",
      "Iteration 50, Vanilla: 0.018458, UC: 0.018031, (2550)\n",
      "Iteration 51, Vanilla: 0.018978, UC: 0.018499, (2600)\n",
      "Iteration 52, Vanilla: 0.018186, UC: 0.018222, (2650)\n",
      "Iteration 53, Vanilla: 0.018466, UC: 0.017581, (2700)\n"
     ]
    }
   ],
   "source": [
    "BATCH_SIZE = 50\n",
    "ITERATIONS = 1000\n",
    "BIG_BATCH = 131072\n",
    "\n",
    "model_vanilla = get_npe_model(max_pairs = 2, probabilistic = True)\n",
    "model_vanilla.compile(loss='msle', optimizer=tf.keras.optimizers.RMSprop(learning_rate=0.0003))\n",
    "\n",
    "model_uc = get_npe_model(max_pairs = 2, probabilistic = True)\n",
    "model_uc.compile(loss='msle', optimizer=tf.keras.optimizers.RMSprop(learning_rate=0.0003))\n",
    "\n",
    "def sample_indexes(indexes):\n",
    "    sampled_x = [\n",
    "        x[indexes] for x in train_x\n",
    "    ]\n",
    "    \n",
    "    sampled_y = train_y[indexes]\n",
    "    \n",
    "    return sampled_x, sampled_y\n",
    "\n",
    "\n",
    "def sample_randomly():\n",
    "    indexes = np.random.choice(len(train_x[0]), BATCH_SIZE)\n",
    "    return sample_indexes(indexes)\n",
    "\n",
    "def get_uncertainty(model, samples=100):\n",
    "    xs = np.zeros((len(train_x[0]), samples))\n",
    "    ys = np.zeros((len(train_x[0]), samples))\n",
    "    \n",
    "    for s in range(samples):\n",
    "        p = model.predict(train_x, batch_size=BIG_BATCH)\n",
    "        xs[:, s] = p[:, 0]\n",
    "        ys[:, s] = p[:, 1]\n",
    "        \n",
    "    return (xs.std(axis=1) + ys.std(axis=1)) / 2\n",
    "\n",
    "def sample_uncertainty(model, samples=100):\n",
    "    var = get_uncertainty(model, samples=samples)\n",
    "    indexes = np.argsort(var)[::-1]\n",
    "    \n",
    "    return sample_indexes(indexes[:BATCH_SIZE])\n",
    "\n",
    "def join_xs(pool, new):\n",
    "    return [\n",
    "        np.concatenate((a, b))\n",
    "        for a, b in zip(pool, new)\n",
    "    ]\n",
    "\n",
    "def join_ys(pool, new):\n",
    "    return np.concatenate((pool, new))\n",
    "\n",
    "\n",
    "pool_vx, pool_vy = sample_randomly()\n",
    "pool_ux, pool_uy = sample_randomly()\n",
    "\n",
    "vanilla = []\n",
    "uc = []\n",
    "\n",
    "for iteration in range(ITERATIONS):\n",
    "    hv = model_vanilla.fit(pool_vx, pool_vy, epochs = 1, verbose = 0, batch_size = BATCH_SIZE, shuffle = True)\n",
    "    hu = model_uc.fit(pool_ux, pool_uy, epochs = 1, verbose = 0, batch_size = BATCH_SIZE, shuffle = True)\n",
    "    \n",
    "    val_v = model_vanilla.evaluate(val_x, val_y, batch_size=BIG_BATCH, verbose=0)\n",
    "    val_u = model_uc.evaluate(val_x, val_y, batch_size=BIG_BATCH, verbose=0)\n",
    "    \n",
    "    #print(val_v, val_u)\n",
    "    \n",
    "    print(\"Iteration %i, Vanilla: %f, UC: %f, (%i)\" % (\n",
    "        iteration,\n",
    "        val_v,\n",
    "        val_u,\n",
    "        pool_ux[0].shape[0]\n",
    "    ))\n",
    "    \n",
    "    vx, vy = sample_randomly()\n",
    "    pool_vx, pool_vy = join_xs(pool_vx, vx), join_ys(pool_vy, vy)\n",
    "    \n",
    "    if iteration < 40:\n",
    "        ux, uy = sample_randomly()\n",
    "    else:\n",
    "        ux, uy = sample_uncertainty(model_uc)\n",
    "\n",
    "    pool_ux, pool_uy = join_xs(pool_ux, ux), join_ys(pool_uy, uy)\n",
    "    \n",
    "    vanilla.append(val_v)\n",
    "    uc.append(val_u)"
   ]
  },
  {
   "cell_type": "code",
   "execution_count": 67,
   "metadata": {},
   "outputs": [
    {
     "data": {
      "text/plain": [
       "(1600, 2)"
      ]
     },
     "execution_count": 67,
     "metadata": {},
     "output_type": "execute_result"
    }
   ],
   "source": [
    "pool_vy.shape"
   ]
  },
  {
   "cell_type": "code",
   "execution_count": 68,
   "metadata": {},
   "outputs": [
    {
     "data": {
      "text/plain": [
       "array([[ 0.        ,  0.        ],\n",
       "       [ 0.        ,  0.        ],\n",
       "       [ 0.        ,  0.        ],\n",
       "       ...,\n",
       "       [ 0.        ,  0.        ],\n",
       "       [ 0.        , -0.94691892],\n",
       "       [ 0.        ,  0.        ]])"
      ]
     },
     "execution_count": 68,
     "metadata": {},
     "output_type": "execute_result"
    }
   ],
   "source": [
    "pool_vy"
   ]
  },
  {
   "cell_type": "code",
   "execution_count": 70,
   "metadata": {},
   "outputs": [
    {
     "data": {
      "text/plain": [
       "(1600, 2)"
      ]
     },
     "execution_count": 70,
     "metadata": {},
     "output_type": "execute_result"
    }
   ],
   "source": [
    "pool_uy.shape"
   ]
  },
  {
   "cell_type": "code",
   "execution_count": null,
   "metadata": {},
   "outputs": [],
   "source": []
  }
 ],
 "metadata": {
  "kernelspec": {
   "display_name": "Python 3",
   "language": "python",
   "name": "python3"
  },
  "language_info": {
   "codemirror_mode": {
    "name": "ipython",
    "version": 3
   },
   "file_extension": ".py",
   "mimetype": "text/x-python",
   "name": "python",
   "nbconvert_exporter": "python",
   "pygments_lexer": "ipython3",
   "version": "3.7.4"
  }
 },
 "nbformat": 4,
 "nbformat_minor": 2
}
