{
 "cells": [
  {
   "cell_type": "code",
   "execution_count": 1,
   "metadata": {},
   "outputs": [
    {
     "name": "stdout",
     "output_type": "stream",
     "text": [
      "pygame 1.9.6\n",
      "Hello from the pygame community. https://www.pygame.org/contribute.html\n",
      "Loading chipmunk for Linux (64bit) [/home/shreyask/anaconda3/envs/tensorflow2/lib/python3.7/site-packages/pymunk/libchipmunk.so]\n"
     ]
    }
   ],
   "source": [
    "%load_ext autoreload\n",
    "%autoreload 2\n",
    "\n",
    "import tensorflow as tf\n",
    "import numpy as np\n",
    "import matplotlib.pyplot as plt\n",
    "import pickle\n",
    "import tqdm\n",
    "import random\n",
    "\n",
    "from experiments.npe.model import get_npe_model\n",
    "from experiments.npe_bt.simulate import show_simulation"
   ]
  },
  {
   "cell_type": "code",
   "execution_count": 3,
   "metadata": {},
   "outputs": [],
   "source": [
    "data = np.load('data/bt_3.npz', allow_pickle=True)"
   ]
  },
  {
   "cell_type": "code",
   "execution_count": 4,
   "metadata": {},
   "outputs": [],
   "source": [
    "train_x = []\n",
    "val_x = []\n",
    "\n",
    "for i in range((data['config'].item()['num_objects'] - 1) * 2 + 1):\n",
    "    train_x.append(data['arr_%i' % (i)])\n",
    "    val_x.append(data['arr_%i' % (i + (data['config'].item()['num_objects'] - 1) * 2 + 1)])\n",
    "    \n",
    "train_y = data['train_y']\n",
    "val_y = data['val_y']"
   ]
  },
  {
   "cell_type": "code",
   "execution_count": 5,
   "metadata": {},
   "outputs": [
    {
     "data": {
      "text/plain": [
       "[<matplotlib.lines.Line2D at 0x7f331abffcd0>]"
      ]
     },
     "execution_count": 5,
     "metadata": {},
     "output_type": "execute_result"
    },
    {
     "data": {
      "image/png": "[encoded data removed]",
      "text/plain": [
       "<Figure size 432x288 with 1 Axes>"
      ]
     },
     "metadata": {
      "needs_background": "light"
     },
     "output_type": "display_data"
    }
   ],
   "source": [
    "plt.plot(sorted(val_y[:, 2]))"
   ]
  },
  {
   "cell_type": "code",
   "execution_count": 64,
   "metadata": {},
   "outputs": [
    {
     "data": {
      "text/plain": [
       "0.382026659529361"
      ]
     },
     "execution_count": 64,
     "metadata": {},
     "output_type": "execute_result"
    }
   ],
   "source": [
    "train_x[0][:, 3].max()"
   ]
  },
  {
   "cell_type": "code",
   "execution_count": 3,
   "metadata": {},
   "outputs": [],
   "source": [
    "tf.keras.backend.set_floatx('float64')\n",
    "\n",
    "model = get_npe_model(max_pairs = 5, state_dim = 6, out_dim = 3, hidden_size = 100)\n",
    "opt = tf.keras.optimizers.RMSprop(learning_rate=0.0003)\n",
    "\n",
    "def vel_loss(ytrue, ypred):\n",
    "    return 1e1 * tf.keras.losses.MSE(ytrue[..., :2], ypred[..., :2])\n",
    "\n",
    "def ang_loss(ytrue, ypred):\n",
    "#     return -tf.math.cos(ytrue[..., 2] * 2 * np.pi - ypred[..., 2] * 2 * np.pi)\n",
    "    return 1e1 / 7.0 * tf.keras.losses.MSE(ytrue[..., 2], ypred[..., 2])\n",
    "    \n",
    "def loss(ytrue, ypred):\n",
    "    return (vel_loss(ytrue, ypred) + ang_loss(ytrue, ypred))\n",
    "\n",
    "\n",
    "model.compile(loss=loss, metrics=[vel_loss, ang_loss], optimizer=opt)"
   ]
  },
  {
   "cell_type": "code",
   "execution_count": 55,
   "metadata": {},
   "outputs": [
    {
     "name": "stdout",
     "output_type": "stream",
     "text": [
      "Train on 3000000 samples, validate on 300000 samples\n",
      "Epoch 1/30\n",
      "3000000/3000000 [==============================] - 195s 65us/sample - loss: 0.0172 - vel_loss: 0.0081 - ang_loss: 0.0091 - val_loss: 0.0180 - val_vel_loss: 0.0081 - val_ang_loss: 0.0099\n",
      "Epoch 2/30\n",
      "3000000/3000000 [==============================] - 196s 65us/sample - loss: 0.0170 - vel_loss: 0.0080 - ang_loss: 0.0090 - val_loss: 0.0169 - val_vel_loss: 0.0078 - val_ang_loss: 0.0091\n",
      "Epoch 3/30\n",
      "3000000/3000000 [==============================] - 196s 65us/sample - loss: 0.0169 - vel_loss: 0.0079 - ang_loss: 0.0090 - val_loss: 0.0174 - val_vel_loss: 0.0081 - val_ang_loss: 0.0093\n",
      "Epoch 4/30\n",
      "3000000/3000000 [==============================] - 193s 64us/sample - loss: 0.0167 - vel_loss: 0.0078 - ang_loss: 0.0089 - val_loss: 0.0163 - val_vel_loss: 0.0077 - val_ang_loss: 0.0086\n",
      "Epoch 5/30\n",
      "3000000/3000000 [==============================] - 194s 65us/sample - loss: 0.0165 - vel_loss: 0.0078 - ang_loss: 0.0088 - val_loss: 0.0163 - val_vel_loss: 0.0076 - val_ang_loss: 0.0086\n",
      "Epoch 6/30\n",
      "3000000/3000000 [==============================] - 194s 65us/sample - loss: 0.0163 - vel_loss: 0.0077 - ang_loss: 0.0087 - val_loss: 0.0169 - val_vel_loss: 0.0080 - val_ang_loss: 0.0089\n",
      "Epoch 7/30\n",
      "3000000/3000000 [==============================] - 194s 65us/sample - loss: 0.0161 - vel_loss: 0.0076 - ang_loss: 0.0085 - val_loss: 0.0159 - val_vel_loss: 0.0075 - val_ang_loss: 0.0085\n",
      "Epoch 8/30\n",
      "3000000/3000000 [==============================] - 194s 65us/sample - loss: 0.0159 - vel_loss: 0.0075 - ang_loss: 0.0084 - val_loss: 0.0161 - val_vel_loss: 0.0076 - val_ang_loss: 0.0085\n",
      "Epoch 9/30\n",
      "3000000/3000000 [==============================] - 194s 65us/sample - loss: 0.0158 - vel_loss: 0.0074 - ang_loss: 0.0084 - val_loss: 0.0161 - val_vel_loss: 0.0075 - val_ang_loss: 0.0085\n",
      "Epoch 10/30\n",
      "3000000/3000000 [==============================] - 193s 64us/sample - loss: 0.0156 - vel_loss: 0.0073 - ang_loss: 0.0083 - val_loss: 0.0156 - val_vel_loss: 0.0073 - val_ang_loss: 0.0083\n",
      "Epoch 11/30\n",
      "3000000/3000000 [==============================] - 192s 64us/sample - loss: 0.0154 - vel_loss: 0.0072 - ang_loss: 0.0082 - val_loss: 0.0161 - val_vel_loss: 0.0075 - val_ang_loss: 0.0086\n",
      "Epoch 12/30\n",
      "3000000/3000000 [==============================] - 193s 64us/sample - loss: 0.0154 - vel_loss: 0.0072 - ang_loss: 0.0082 - val_loss: 0.0162 - val_vel_loss: 0.0076 - val_ang_loss: 0.0086\n",
      "Epoch 13/30\n",
      "3000000/3000000 [==============================] - 193s 64us/sample - loss: 0.0153 - vel_loss: 0.0071 - ang_loss: 0.0081 - val_loss: 0.0159 - val_vel_loss: 0.0074 - val_ang_loss: 0.0085\n",
      "Epoch 14/30\n",
      "3000000/3000000 [==============================] - 193s 64us/sample - loss: 0.0151 - vel_loss: 0.0070 - ang_loss: 0.0081 - val_loss: 0.0150 - val_vel_loss: 0.0069 - val_ang_loss: 0.0081\n",
      "Epoch 15/30\n",
      "3000000/3000000 [==============================] - 193s 64us/sample - loss: 0.0150 - vel_loss: 0.0069 - ang_loss: 0.0080 - val_loss: 0.0149 - val_vel_loss: 0.0069 - val_ang_loss: 0.0080\n",
      "Epoch 16/30\n",
      "3000000/3000000 [==============================] - 193s 64us/sample - loss: 0.0150 - vel_loss: 0.0069 - ang_loss: 0.0080 - val_loss: 0.0146 - val_vel_loss: 0.0067 - val_ang_loss: 0.0079\n",
      "Epoch 17/30\n",
      "3000000/3000000 [==============================] - 193s 64us/sample - loss: 0.0147 - vel_loss: 0.0068 - ang_loss: 0.0079 - val_loss: 0.0146 - val_vel_loss: 0.0068 - val_ang_loss: 0.0078\n",
      "Epoch 18/30\n",
      "3000000/3000000 [==============================] - 192s 64us/sample - loss: 0.0146 - vel_loss: 0.0067 - ang_loss: 0.0079 - val_loss: 0.0142 - val_vel_loss: 0.0065 - val_ang_loss: 0.0077\n",
      "Epoch 19/30\n",
      "3000000/3000000 [==============================] - 192s 64us/sample - loss: 0.0144 - vel_loss: 0.0066 - ang_loss: 0.0079 - val_loss: 0.0145 - val_vel_loss: 0.0066 - val_ang_loss: 0.0080\n",
      "Epoch 20/30\n",
      "3000000/3000000 [==============================] - 193s 64us/sample - loss: 0.0140 - vel_loss: 0.0063 - ang_loss: 0.0078 - val_loss: 0.0135 - val_vel_loss: 0.0060 - val_ang_loss: 0.0075\n",
      "Epoch 21/30\n",
      "3000000/3000000 [==============================] - 193s 64us/sample - loss: 0.0135 - vel_loss: 0.0059 - ang_loss: 0.0076 - val_loss: 0.0134 - val_vel_loss: 0.0057 - val_ang_loss: 0.0076\n",
      "Epoch 22/30\n",
      "3000000/3000000 [==============================] - 194s 65us/sample - loss: 0.0132 - vel_loss: 0.0056 - ang_loss: 0.0076 - val_loss: 0.0131 - val_vel_loss: 0.0056 - val_ang_loss: 0.0075\n",
      "Epoch 23/30\n",
      "3000000/3000000 [==============================] - 193s 64us/sample - loss: 0.0130 - vel_loss: 0.0055 - ang_loss: 0.0075 - val_loss: 0.0126 - val_vel_loss: 0.0053 - val_ang_loss: 0.0074\n",
      "Epoch 24/30\n",
      "3000000/3000000 [==============================] - 192s 64us/sample - loss: 0.0128 - vel_loss: 0.0054 - ang_loss: 0.0074 - val_loss: 0.0151 - val_vel_loss: 0.0066 - val_ang_loss: 0.0085\n",
      "Epoch 25/30\n",
      "3000000/3000000 [==============================] - 192s 64us/sample - loss: 0.0127 - vel_loss: 0.0053 - ang_loss: 0.0074 - val_loss: 0.0138 - val_vel_loss: 0.0061 - val_ang_loss: 0.0078\n",
      "Epoch 26/30\n",
      "3000000/3000000 [==============================] - 192s 64us/sample - loss: 0.0127 - vel_loss: 0.0053 - ang_loss: 0.0074 - val_loss: 0.0122 - val_vel_loss: 0.0049 - val_ang_loss: 0.0073\n",
      "Epoch 27/30\n",
      "3000000/3000000 [==============================] - 192s 64us/sample - loss: 0.0126 - vel_loss: 0.0053 - ang_loss: 0.0073 - val_loss: 0.0128 - val_vel_loss: 0.0054 - val_ang_loss: 0.0074\n",
      "Epoch 28/30\n",
      "3000000/3000000 [==============================] - 192s 64us/sample - loss: 0.0125 - vel_loss: 0.0052 - ang_loss: 0.0073 - val_loss: 0.0125 - val_vel_loss: 0.0051 - val_ang_loss: 0.0074\n",
      "Epoch 29/30\n",
      "3000000/3000000 [==============================] - 192s 64us/sample - loss: 0.0124 - vel_loss: 0.0052 - ang_loss: 0.0073 - val_loss: 0.0132 - val_vel_loss: 0.0055 - val_ang_loss: 0.0078\n",
      "Epoch 30/30\n",
      "3000000/3000000 [==============================] - 193s 64us/sample - loss: 0.0124 - vel_loss: 0.0052 - ang_loss: 0.0073 - val_loss: 0.0124 - val_vel_loss: 0.0052 - val_ang_loss: 0.0072\n"
     ]
    }
   ],
   "source": [
    "history = model.fit(train_x, train_y, validation_data=(val_x, val_y), epochs=30, batch_size=200, shuffle=True)"
   ]
  },
  {
   "cell_type": "code",
   "execution_count": 12,
   "metadata": {},
   "outputs": [],
   "source": [
    "from experiments.npe.simulate import show_simulation as sso\n",
    "model = tf.keras.models.load_model('model_zoo/npe_replicate_b50_e57.h5')\n",
    "outputs = sso(model, draw=True, length=500)"
   ]
  },
  {
   "cell_type": "code",
   "execution_count": 10,
   "metadata": {},
   "outputs": [
    {
     "ename": "KeyboardInterrupt",
     "evalue": "",
     "output_type": "error",
     "traceback": [
      "\u001b[0;31m---------------------------------------------------------------------------\u001b[0m",
      "\u001b[0;31mKeyboardInterrupt\u001b[0m                         Traceback (most recent call last)",
      "\u001b[0;32m<ipython-input-10-fc3d28024233>\u001b[0m in \u001b[0;36m<module>\u001b[0;34m\u001b[0m\n\u001b[0;32m----> 1\u001b[0;31m \u001b[0mshow_simulation\u001b[0m\u001b[0;34m(\u001b[0m\u001b[0mmodel\u001b[0m\u001b[0;34m)\u001b[0m\u001b[0;34m\u001b[0m\u001b[0;34m\u001b[0m\u001b[0m\n\u001b[0m",
      "\u001b[0;32m~/Projects/initphysics/experiments/npe_bt/simulate.py\u001b[0m in \u001b[0;36mshow_simulation\u001b[0;34m(model, width, height, radius, length, past_steps)\u001b[0m\n\u001b[1;32m     92\u001b[0m                     \u001b[0mnp\u001b[0m\u001b[0;34m.\u001b[0m\u001b[0marray\u001b[0m\u001b[0;34m(\u001b[0m\u001b[0;34m[\u001b[0m\u001b[0;34m[\u001b[0m\u001b[0;36m1.0\u001b[0m\u001b[0;34m]\u001b[0m\u001b[0;34m]\u001b[0m\u001b[0;34m)\u001b[0m\u001b[0;34m,\u001b[0m\u001b[0;34m\u001b[0m\u001b[0;34m\u001b[0m\u001b[0m\n\u001b[1;32m     93\u001b[0m                     \u001b[0mnp\u001b[0m\u001b[0;34m.\u001b[0m\u001b[0marray\u001b[0m\u001b[0;34m(\u001b[0m\u001b[0;34m[\u001b[0m\u001b[0;34m[\u001b[0m\u001b[0;36m1.0\u001b[0m\u001b[0;34m]\u001b[0m\u001b[0;34m]\u001b[0m\u001b[0;34m)\u001b[0m\u001b[0;34m,\u001b[0m\u001b[0;34m\u001b[0m\u001b[0;34m\u001b[0m\u001b[0m\n\u001b[0;32m---> 94\u001b[0;31m                     \u001b[0mnp\u001b[0m\u001b[0;34m.\u001b[0m\u001b[0marray\u001b[0m\u001b[0;34m(\u001b[0m\u001b[0;34m[\u001b[0m\u001b[0;34m[\u001b[0m\u001b[0;36m1.0\u001b[0m\u001b[0;34m]\u001b[0m\u001b[0;34m]\u001b[0m\u001b[0;34m)\u001b[0m\u001b[0;34m,\u001b[0m\u001b[0;34m\u001b[0m\u001b[0;34m\u001b[0m\u001b[0m\n\u001b[0m\u001b[1;32m     95\u001b[0m                 ]\n\u001b[1;32m     96\u001b[0m             )[0]\n",
      "\u001b[0;32m~/anaconda3/envs/tensorflow2/lib/python3.7/site-packages/tensorflow_core/python/keras/engine/training.py\u001b[0m in \u001b[0;36mpredict\u001b[0;34m(self, x, batch_size, verbose, steps, callbacks, max_queue_size, workers, use_multiprocessing)\u001b[0m\n\u001b[1;32m    907\u001b[0m         \u001b[0mmax_queue_size\u001b[0m\u001b[0;34m=\u001b[0m\u001b[0mmax_queue_size\u001b[0m\u001b[0;34m,\u001b[0m\u001b[0;34m\u001b[0m\u001b[0;34m\u001b[0m\u001b[0m\n\u001b[1;32m    908\u001b[0m         \u001b[0mworkers\u001b[0m\u001b[0;34m=\u001b[0m\u001b[0mworkers\u001b[0m\u001b[0;34m,\u001b[0m\u001b[0;34m\u001b[0m\u001b[0;34m\u001b[0m\u001b[0m\n\u001b[0;32m--> 909\u001b[0;31m         use_multiprocessing=use_multiprocessing)\n\u001b[0m\u001b[1;32m    910\u001b[0m \u001b[0;34m\u001b[0m\u001b[0m\n\u001b[1;32m    911\u001b[0m   \u001b[0;32mdef\u001b[0m \u001b[0mreset_metrics\u001b[0m\u001b[0;34m(\u001b[0m\u001b[0mself\u001b[0m\u001b[0;34m)\u001b[0m\u001b[0;34m:\u001b[0m\u001b[0;34m\u001b[0m\u001b[0;34m\u001b[0m\u001b[0m\n",
      "\u001b[0;32m~/anaconda3/envs/tensorflow2/lib/python3.7/site-packages/tensorflow_core/python/keras/engine/training_v2.py\u001b[0m in \u001b[0;36mpredict\u001b[0;34m(self, model, x, batch_size, verbose, steps, callbacks, **kwargs)\u001b[0m\n\u001b[1;32m    460\u001b[0m     return self._model_iteration(\n\u001b[1;32m    461\u001b[0m         \u001b[0mmodel\u001b[0m\u001b[0;34m,\u001b[0m \u001b[0mModeKeys\u001b[0m\u001b[0;34m.\u001b[0m\u001b[0mPREDICT\u001b[0m\u001b[0;34m,\u001b[0m \u001b[0mx\u001b[0m\u001b[0;34m=\u001b[0m\u001b[0mx\u001b[0m\u001b[0;34m,\u001b[0m \u001b[0mbatch_size\u001b[0m\u001b[0;34m=\u001b[0m\u001b[0mbatch_size\u001b[0m\u001b[0;34m,\u001b[0m \u001b[0mverbose\u001b[0m\u001b[0;34m=\u001b[0m\u001b[0mverbose\u001b[0m\u001b[0;34m,\u001b[0m\u001b[0;34m\u001b[0m\u001b[0;34m\u001b[0m\u001b[0m\n\u001b[0;32m--> 462\u001b[0;31m         steps=steps, callbacks=callbacks, **kwargs)\n\u001b[0m\u001b[1;32m    463\u001b[0m \u001b[0;34m\u001b[0m\u001b[0m\n\u001b[1;32m    464\u001b[0m \u001b[0;34m\u001b[0m\u001b[0m\n",
      "\u001b[0;32m~/anaconda3/envs/tensorflow2/lib/python3.7/site-packages/tensorflow_core/python/keras/engine/training_v2.py\u001b[0m in \u001b[0;36m_model_iteration\u001b[0;34m(self, model, mode, x, y, batch_size, verbose, sample_weight, steps, callbacks, **kwargs)\u001b[0m\n\u001b[1;32m    412\u001b[0m           model, mode)\n\u001b[1;32m    413\u001b[0m \u001b[0;34m\u001b[0m\u001b[0m\n\u001b[0;32m--> 414\u001b[0;31m       \u001b[0mdata_iterator\u001b[0m \u001b[0;34m=\u001b[0m \u001b[0miter\u001b[0m\u001b[0;34m(\u001b[0m\u001b[0mdataset\u001b[0m\u001b[0;34m)\u001b[0m\u001b[0;34m\u001b[0m\u001b[0;34m\u001b[0m\u001b[0m\n\u001b[0m\u001b[1;32m    415\u001b[0m \u001b[0;34m\u001b[0m\u001b[0m\n\u001b[1;32m    416\u001b[0m       callbacks = cbks.configure_callbacks(\n",
      "\u001b[0;32m~/anaconda3/envs/tensorflow2/lib/python3.7/site-packages/tensorflow_core/python/data/ops/dataset_ops.py\u001b[0m in \u001b[0;36m__iter__\u001b[0;34m(self)\u001b[0m\n\u001b[1;32m    330\u001b[0m     if (context.executing_eagerly()\n\u001b[1;32m    331\u001b[0m         or ops.get_default_graph()._building_function):  # pylint: disable=protected-access\n\u001b[0;32m--> 332\u001b[0;31m       \u001b[0;32mreturn\u001b[0m \u001b[0miterator_ops\u001b[0m\u001b[0;34m.\u001b[0m\u001b[0mIteratorV2\u001b[0m\u001b[0;34m(\u001b[0m\u001b[0mself\u001b[0m\u001b[0;34m)\u001b[0m\u001b[0;34m\u001b[0m\u001b[0;34m\u001b[0m\u001b[0m\n\u001b[0m\u001b[1;32m    333\u001b[0m     \u001b[0;32melse\u001b[0m\u001b[0;34m:\u001b[0m\u001b[0;34m\u001b[0m\u001b[0;34m\u001b[0m\u001b[0m\n\u001b[1;32m    334\u001b[0m       raise RuntimeError(\"__iter__() is only supported inside of tf.function \"\n",
      "\u001b[0;32m~/anaconda3/envs/tensorflow2/lib/python3.7/site-packages/tensorflow_core/python/data/ops/iterator_ops.py\u001b[0m in \u001b[0;36m__init__\u001b[0;34m(self, dataset, components, element_spec)\u001b[0m\n\u001b[1;32m    591\u001b[0m           context.context().device_spec.device_type != \"CPU\"):\n\u001b[1;32m    592\u001b[0m         \u001b[0;32mwith\u001b[0m \u001b[0mops\u001b[0m\u001b[0;34m.\u001b[0m\u001b[0mdevice\u001b[0m\u001b[0;34m(\u001b[0m\u001b[0;34m\"/cpu:0\"\u001b[0m\u001b[0;34m)\u001b[0m\u001b[0;34m:\u001b[0m\u001b[0;34m\u001b[0m\u001b[0;34m\u001b[0m\u001b[0m\n\u001b[0;32m--> 593\u001b[0;31m           \u001b[0mself\u001b[0m\u001b[0;34m.\u001b[0m\u001b[0m_create_iterator\u001b[0m\u001b[0;34m(\u001b[0m\u001b[0mdataset\u001b[0m\u001b[0;34m)\u001b[0m\u001b[0;34m\u001b[0m\u001b[0;34m\u001b[0m\u001b[0m\n\u001b[0m\u001b[1;32m    594\u001b[0m       \u001b[0;32melse\u001b[0m\u001b[0;34m:\u001b[0m\u001b[0;34m\u001b[0m\u001b[0;34m\u001b[0m\u001b[0m\n\u001b[1;32m    595\u001b[0m         \u001b[0mself\u001b[0m\u001b[0;34m.\u001b[0m\u001b[0m_create_iterator\u001b[0m\u001b[0;34m(\u001b[0m\u001b[0mdataset\u001b[0m\u001b[0;34m)\u001b[0m\u001b[0;34m\u001b[0m\u001b[0;34m\u001b[0m\u001b[0m\n",
      "\u001b[0;32m~/anaconda3/envs/tensorflow2/lib/python3.7/site-packages/tensorflow_core/python/data/ops/iterator_ops.py\u001b[0m in \u001b[0;36m_create_iterator\u001b[0;34m(self, dataset)\u001b[0m\n\u001b[1;32m    609\u001b[0m               \u001b[0moutput_types\u001b[0m\u001b[0;34m=\u001b[0m\u001b[0mself\u001b[0m\u001b[0;34m.\u001b[0m\u001b[0m_flat_output_types\u001b[0m\u001b[0;34m,\u001b[0m\u001b[0;34m\u001b[0m\u001b[0;34m\u001b[0m\u001b[0m\n\u001b[1;32m    610\u001b[0m               output_shapes=self._flat_output_shapes))\n\u001b[0;32m--> 611\u001b[0;31m       \u001b[0mgen_dataset_ops\u001b[0m\u001b[0;34m.\u001b[0m\u001b[0mmake_iterator\u001b[0m\u001b[0;34m(\u001b[0m\u001b[0mds_variant\u001b[0m\u001b[0;34m,\u001b[0m \u001b[0mself\u001b[0m\u001b[0;34m.\u001b[0m\u001b[0m_iterator_resource\u001b[0m\u001b[0;34m)\u001b[0m\u001b[0;34m\u001b[0m\u001b[0;34m\u001b[0m\u001b[0m\n\u001b[0m\u001b[1;32m    612\u001b[0m       \u001b[0;31m# Delete the resource when this object is deleted\u001b[0m\u001b[0;34m\u001b[0m\u001b[0;34m\u001b[0m\u001b[0;34m\u001b[0m\u001b[0m\n\u001b[1;32m    613\u001b[0m       self._resource_deleter = IteratorResourceDeleter(\n",
      "\u001b[0;32m~/anaconda3/envs/tensorflow2/lib/python3.7/site-packages/tensorflow_core/python/ops/gen_dataset_ops.py\u001b[0m in \u001b[0;36mmake_iterator\u001b[0;34m(dataset, iterator, name)\u001b[0m\n\u001b[1;32m   2914\u001b[0m         \u001b[0m_ctx\u001b[0m\u001b[0;34m.\u001b[0m\u001b[0m_context_handle\u001b[0m\u001b[0;34m,\u001b[0m \u001b[0m_ctx\u001b[0m\u001b[0;34m.\u001b[0m\u001b[0m_thread_local_data\u001b[0m\u001b[0;34m.\u001b[0m\u001b[0mdevice_name\u001b[0m\u001b[0;34m,\u001b[0m\u001b[0;34m\u001b[0m\u001b[0;34m\u001b[0m\u001b[0m\n\u001b[1;32m   2915\u001b[0m         \u001b[0;34m\"MakeIterator\"\u001b[0m\u001b[0;34m,\u001b[0m \u001b[0mname\u001b[0m\u001b[0;34m,\u001b[0m \u001b[0m_ctx\u001b[0m\u001b[0;34m.\u001b[0m\u001b[0m_post_execution_callbacks\u001b[0m\u001b[0;34m,\u001b[0m \u001b[0mdataset\u001b[0m\u001b[0;34m,\u001b[0m\u001b[0;34m\u001b[0m\u001b[0;34m\u001b[0m\u001b[0m\n\u001b[0;32m-> 2916\u001b[0;31m         iterator)\n\u001b[0m\u001b[1;32m   2917\u001b[0m       \u001b[0;32mreturn\u001b[0m \u001b[0m_result\u001b[0m\u001b[0;34m\u001b[0m\u001b[0;34m\u001b[0m\u001b[0m\n\u001b[1;32m   2918\u001b[0m     \u001b[0;32mexcept\u001b[0m \u001b[0m_core\u001b[0m\u001b[0;34m.\u001b[0m\u001b[0m_FallbackException\u001b[0m\u001b[0;34m:\u001b[0m\u001b[0;34m\u001b[0m\u001b[0;34m\u001b[0m\u001b[0m\n",
      "\u001b[0;31mKeyboardInterrupt\u001b[0m: "
     ]
    }
   ],
   "source": [
    "show_simulation(model)"
   ]
  },
  {
   "cell_type": "code",
   "execution_count": 72,
   "metadata": {},
   "outputs": [
    {
     "data": {
      "text/plain": [
       "8.527227498905328e-15"
      ]
     },
     "execution_count": 72,
     "metadata": {},
     "output_type": "execute_result"
    }
   ],
   "source": [
    "np.set_printoptions(suppress=True)\n",
    "train_y[:, 2].max()"
   ]
  },
  {
   "cell_type": "code",
   "execution_count": 81,
   "metadata": {},
   "outputs": [
    {
     "data": {
      "text/plain": [
       "array([ 0.6734375 ,  0.85546875, -0.20135081,  0.75369077,  0.66306668,\n",
       "        0.91784411, -0.34994342, -0.7536976 ])"
      ]
     },
     "execution_count": 81,
     "metadata": {},
     "output_type": "execute_result"
    }
   ],
   "source": [
    "train_x[0][0]"
   ]
  },
  {
   "cell_type": "code",
   "execution_count": 26,
   "metadata": {},
   "outputs": [],
   "source": [
    "p = model(val_x)"
   ]
  },
  {
   "cell_type": "code",
   "execution_count": 30,
   "metadata": {},
   "outputs": [
    {
     "ename": "KeyboardInterrupt",
     "evalue": "",
     "output_type": "error",
     "traceback": [
      "\u001b[0;31m---------------------------------------------------------------------------\u001b[0m",
      "\u001b[0;31mKeyboardInterrupt\u001b[0m                         Traceback (most recent call last)",
      "\u001b[0;32m~/anaconda3/envs/tensorflow2/lib/python3.7/site-packages/IPython/core/interactiveshell.py\u001b[0m in \u001b[0;36mrun_code\u001b[0;34m(self, code_obj, result, async_)\u001b[0m\n\u001b[1;32m   3325\u001b[0m                 \u001b[0;32melse\u001b[0m\u001b[0;34m:\u001b[0m\u001b[0;34m\u001b[0m\u001b[0;34m\u001b[0m\u001b[0m\n\u001b[0;32m-> 3326\u001b[0;31m                     \u001b[0mexec\u001b[0m\u001b[0;34m(\u001b[0m\u001b[0mcode_obj\u001b[0m\u001b[0;34m,\u001b[0m \u001b[0mself\u001b[0m\u001b[0;34m.\u001b[0m\u001b[0muser_global_ns\u001b[0m\u001b[0;34m,\u001b[0m \u001b[0mself\u001b[0m\u001b[0;34m.\u001b[0m\u001b[0muser_ns\u001b[0m\u001b[0;34m)\u001b[0m\u001b[0;34m\u001b[0m\u001b[0;34m\u001b[0m\u001b[0m\n\u001b[0m\u001b[1;32m   3327\u001b[0m             \u001b[0;32mfinally\u001b[0m\u001b[0;34m:\u001b[0m\u001b[0;34m\u001b[0m\u001b[0;34m\u001b[0m\u001b[0m\n",
      "\u001b[0;32m<ipython-input-30-2ddfa8a61f99>\u001b[0m in \u001b[0;36m<module>\u001b[0;34m\u001b[0m\n\u001b[0;32m----> 1\u001b[0;31m \u001b[0mplt\u001b[0m\u001b[0;34m.\u001b[0m\u001b[0mplot\u001b[0m\u001b[0;34m(\u001b[0m\u001b[0msorted\u001b[0m\u001b[0;34m(\u001b[0m\u001b[0mp\u001b[0m\u001b[0;34m[\u001b[0m\u001b[0;34m:\u001b[0m\u001b[0;34m,\u001b[0m \u001b[0;36m0\u001b[0m\u001b[0;34m]\u001b[0m\u001b[0;34m)\u001b[0m\u001b[0;34m)\u001b[0m\u001b[0;34m\u001b[0m\u001b[0;34m\u001b[0m\u001b[0m\n\u001b[0m",
      "\u001b[0;32m~/anaconda3/envs/tensorflow2/lib/python3.7/site-packages/tensorflow_core/python/framework/ops.py\u001b[0m in \u001b[0;36m__bool__\u001b[0;34m(self)\u001b[0m\n\u001b[1;32m    875\u001b[0m   \u001b[0;32mdef\u001b[0m \u001b[0m__bool__\u001b[0m\u001b[0;34m(\u001b[0m\u001b[0mself\u001b[0m\u001b[0;34m)\u001b[0m\u001b[0;34m:\u001b[0m\u001b[0;34m\u001b[0m\u001b[0;34m\u001b[0m\u001b[0m\n\u001b[0;32m--> 876\u001b[0;31m     \u001b[0;32mreturn\u001b[0m \u001b[0mbool\u001b[0m\u001b[0;34m(\u001b[0m\u001b[0mself\u001b[0m\u001b[0;34m.\u001b[0m\u001b[0m_numpy\u001b[0m\u001b[0;34m(\u001b[0m\u001b[0;34m)\u001b[0m\u001b[0;34m)\u001b[0m\u001b[0;34m\u001b[0m\u001b[0;34m\u001b[0m\u001b[0m\n\u001b[0m\u001b[1;32m    877\u001b[0m \u001b[0;34m\u001b[0m\u001b[0m\n",
      "\u001b[0;31mKeyboardInterrupt\u001b[0m: ",
      "\nDuring handling of the above exception, another exception occurred:\n",
      "\u001b[0;31mKeyboardInterrupt\u001b[0m                         Traceback (most recent call last)",
      "\u001b[0;31mKeyboardInterrupt\u001b[0m: "
     ]
    }
   ],
   "source": [
    "plt.plot(sorted(p[:, 0]))"
   ]
  },
  {
   "cell_type": "code",
   "execution_count": 60,
   "metadata": {
    "scrolled": true
   },
   "outputs": [
    {
     "data": {
      "text/plain": [
       "<matplotlib.legend.Legend at 0x7f2bfedb2f90>"
      ]
     },
     "execution_count": 60,
     "metadata": {},
     "output_type": "execute_result"
    },
    {
     "data": {
      "image/png": "[encoded data removed]",
      "text/plain": [
       "<Figure size 432x288 with 1 Axes>"
      ]
     },
     "metadata": {
      "needs_background": "light"
     },
     "output_type": "display_data"
    }
   ],
   "source": [
    "plt.plot(history.history['ang_loss'], label=\"Angle Loss\")\n",
    "plt.plot(history.history['vel_loss'], label=\"Velocity Loss\")\n",
    "plt.legend()"
   ]
  },
  {
   "cell_type": "code",
   "execution_count": 85,
   "metadata": {},
   "outputs": [],
   "source": [
    "from experiments.npe_bt.datagen import collect_data as collect_data_bt\n",
    "from experiments.npe.datagen import collect_data as collect_data_orig"
   ]
  },
  {
   "cell_type": "code",
   "execution_count": 96,
   "metadata": {},
   "outputs": [
    {
     "name": "stderr",
     "output_type": "stream",
     "text": [
      "100%|██████████| 100/100 [00:00<00:00, 130.59it/s]\n"
     ]
    }
   ],
   "source": [
    "train_x_orig, train_y_orig = collect_data_orig(\n",
    "        num_sequences=100,\n",
    "        sequence_length=60,\n",
    "        radius=30,\n",
    "        seed=1337,\n",
    "    )"
   ]
  },
  {
   "cell_type": "code",
   "execution_count": 97,
   "metadata": {},
   "outputs": [
    {
     "name": "stderr",
     "output_type": "stream",
     "text": [
      "100%|██████████| 100/100 [00:00<00:00, 118.97it/s]\n"
     ]
    }
   ],
   "source": [
    "train_x_bt, train_y_bt = collect_data_bt(\n",
    "        num_sequences=100,\n",
    "        sequence_length=60,\n",
    "        radius=30,\n",
    "        seed=1337,\n",
    "    )"
   ]
  },
  {
   "cell_type": "code",
   "execution_count": 98,
   "metadata": {},
   "outputs": [
    {
     "data": {
      "text/plain": [
       "[array([ 0.6734375 ,  0.85546875, -0.20135081,  0.75369077,  0.66306668,\n",
       "         0.91784411, -0.34994342, -0.7536976 ]),\n",
       " array([0.74882812, 0.70390625, 0.42287457, 0.59242487, 0.78012912,\n",
       "        0.72550466, 0.57146718, 0.34827979]),\n",
       " array([ 0.51328125,  0.75273437, -0.18819043, -0.21944898,  0.4943042 ,\n",
       "         0.73477623, -0.18819043, -0.21944898]),\n",
       " array([1.]),\n",
       " array([1.])]"
      ]
     },
     "execution_count": 98,
     "metadata": {},
     "output_type": "execute_result"
    }
   ],
   "source": [
    "train_x_orig[0]"
   ]
  },
  {
   "cell_type": "code",
   "execution_count": 99,
   "metadata": {},
   "outputs": [
    {
     "data": {
      "text/plain": [
       "[array([ 0.6734375 ,  0.85546875, -0.20135081,  0.75369077,  0.        ,\n",
       "        -0.        ,  0.66306668,  0.91784411, -0.34994342, -0.7536976 ,\n",
       "        -0.        , -0.        ]),\n",
       " array([ 0.74882812,  0.70390625,  0.42287457,  0.59242487,  0.        ,\n",
       "        -0.        ,  0.78012912,  0.72550466,  0.57146718,  0.34827979,\n",
       "        -0.        , -0.        ]),\n",
       " array([ 0.51328125,  0.75273437, -0.18819043, -0.21944898,  0.        ,\n",
       "        -0.        ,  0.4943042 ,  0.73477623, -0.18819043, -0.21944898,\n",
       "        -0.        , -0.        ]),\n",
       " array([1.]),\n",
       " array([1.])]"
      ]
     },
     "execution_count": 99,
     "metadata": {},
     "output_type": "execute_result"
    }
   ],
   "source": [
    "train_x_bt[0]"
   ]
  },
  {
   "cell_type": "code",
   "execution_count": 100,
   "metadata": {},
   "outputs": [
    {
     "data": {
      "text/plain": [
       "array([0.35546072, 0.31712341])"
      ]
     },
     "execution_count": 100,
     "metadata": {},
     "output_type": "execute_result"
    }
   ],
   "source": [
    "train_y_orig[0]"
   ]
  },
  {
   "cell_type": "code",
   "execution_count": 101,
   "metadata": {},
   "outputs": [
    {
     "data": {
      "text/plain": [
       "array([ 0.35546072,  0.31712341, -0.        ])"
      ]
     },
     "execution_count": 101,
     "metadata": {},
     "output_type": "execute_result"
    }
   ],
   "source": [
    "train_y_bt[0]"
   ]
  },
  {
   "cell_type": "code",
   "execution_count": null,
   "metadata": {},
   "outputs": [],
   "source": [
    "plt.plot()"
   ]
  },
  {
   "cell_type": "code",
   "execution_count": 59,
   "metadata": {},
   "outputs": [],
   "source": [
    "model.save('model_zoo/block_tower_1.h5')"
   ]
  },
  {
   "cell_type": "code",
   "execution_count": null,
   "metadata": {},
   "outputs": [],
   "source": []
  }
 ],
 "metadata": {
  "kernelspec": {
   "display_name": "Python 3",
   "language": "python",
   "name": "python3"
  },
  "language_info": {
   "codemirror_mode": {
    "name": "ipython",
    "version": 3
   },
   "file_extension": ".py",
   "mimetype": "text/x-python",
   "name": "python",
   "nbconvert_exporter": "python",
   "pygments_lexer": "ipython3",
   "version": "3.7.4"
  }
 },
 "nbformat": 4,
 "nbformat_minor": 2
}
