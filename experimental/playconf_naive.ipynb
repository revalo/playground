{
 "cells": [
  {
   "cell_type": "code",
   "execution_count": 1,
   "metadata": {},
   "outputs": [
    {
     "name": "stdout",
     "output_type": "stream",
     "text": [
      "pygame 1.9.6\n",
      "Hello from the pygame community. https://www.pygame.org/contribute.html\n",
      "Loading chipmunk for Linux (64bit) [/home/shreyask/anaconda3/envs/tensorflow2/lib/python3.7/site-packages/pymunk/libchipmunk.so]\n"
     ]
    }
   ],
   "source": [
    "%load_ext autoreload\n",
    "%autoreload 2\n",
    "\n",
    "import tensorflow as tf\n",
    "import numpy as np\n",
    "import matplotlib.pyplot as plt\n",
    "import pickle\n",
    "import tqdm\n",
    "import random\n",
    "\n",
    "from experiments.npe.model import get_npe_model\n",
    "from experiments.npe.simulate import show_simulation\n",
    "from renderer.threecircles import ThreeCircles\n",
    "from experiments.playconf.environment import Environment, initialize_scene_from_configuration, make_training\n",
    "from experiments.playconf.rl import get_actor, get_experience, get_critic, get_joint, get_random_experience, get_naive_adversarial_loss"
   ]
  },
  {
   "cell_type": "code",
   "execution_count": 2,
   "metadata": {},
   "outputs": [],
   "source": [
    "with open('data/threecircles_npe_munk1.p', 'rb') as f:\n",
    "    data = pickle.load(f)\n",
    "\n",
    "val_x, val_y = data['val']\n",
    "\n",
    "c = list(zip(val_x, val_y))\n",
    "random.shuffle(c)\n",
    "val_x, val_y = zip(*c)\n",
    "\n",
    "def breakdown(X):\n",
    "    return [\n",
    "        np.array([x[0] for x in X]),\n",
    "        np.array([x[1] for x in X]),\n",
    "        np.array([x[2] for x in X]),\n",
    "        np.array([x[3] for x in X]),\n",
    "        np.array([x[4] for x in X]),\n",
    "    ]\n",
    "\n",
    "b_val_x = breakdown(val_x)"
   ]
  },
  {
   "cell_type": "code",
   "execution_count": 3,
   "metadata": {},
   "outputs": [],
   "source": [
    "scene = ThreeCircles(headless=False)"
   ]
  },
  {
   "cell_type": "code",
   "execution_count": null,
   "metadata": {},
   "outputs": [],
   "source": [
    "model = tf.keras.models.load_model('model_zoo/npe_munk1.h5')\n",
    "env = Environment(model, episodes=3, batch_size=4096)"
   ]
  },
  {
   "cell_type": "code",
   "execution_count": 14,
   "metadata": {},
   "outputs": [],
   "source": [
    "model = get_npe_model(max_pairs = 2)\n",
    "env = Environment(model, episodes=3, batch_size=4096)"
   ]
  },
  {
   "cell_type": "code",
   "execution_count": 15,
   "metadata": {},
   "outputs": [
    {
     "name": "stdout",
     "output_type": "stream",
     "text": [
      "Train on 4096 samples, validate on 10000 samples\n",
      "4096/4096 [==============================] - 3s 766us/sample - loss: 0.0970 - val_loss: 0.1174\n",
      "Iteration 0 Train Loss 0.09700601607619319 Val Loss 0.11735395804047584\n",
      "Train on 4096 samples, validate on 10000 samples\n",
      "4096/4096 [==============================] - 2s 452us/sample - loss: 0.0868 - val_loss: 0.1231\n",
      "Iteration 1 Train Loss 0.08678877350030234 Val Loss 0.12310231249779463\n",
      "Train on 4096 samples, validate on 10000 samples\n",
      "4096/4096 [==============================] - 2s 449us/sample - loss: 0.0789 - val_loss: 0.1191\n",
      "Iteration 2 Train Loss 0.07885623617585225 Val Loss 0.11912654664367438\n",
      "Train on 4096 samples, validate on 10000 samples\n",
      "4096/4096 [==============================] - 2s 448us/sample - loss: 0.0711 - val_loss: 0.1190\n",
      "Iteration 3 Train Loss 0.07106274216675956 Val Loss 0.11898884769529104\n",
      "Train on 4096 samples, validate on 10000 samples\n",
      "4096/4096 [==============================] - 2s 454us/sample - loss: 0.1913 - val_loss: 0.1256\n",
      "Iteration 4 Train Loss 0.19127603862580145 Val Loss 0.12563372906297446\n",
      "Train on 4096 samples, validate on 10000 samples\n",
      "4096/4096 [==============================] - 2s 450us/sample - loss: 0.0751 - val_loss: 0.1170\n",
      "Iteration 5 Train Loss 0.0751085702158889 Val Loss 0.11697543159127236\n",
      "Train on 4096 samples, validate on 10000 samples\n",
      "4096/4096 [==============================] - 2s 452us/sample - loss: 0.0663 - val_loss: 0.1196\n",
      "Iteration 6 Train Loss 0.06627615848447022 Val Loss 0.1196292718499899\n",
      "Train on 4096 samples, validate on 10000 samples\n",
      "4096/4096 [==============================] - 2s 452us/sample - loss: 0.0601 - val_loss: 0.1162\n",
      "Iteration 7 Train Loss 0.06012150890819612 Val Loss 0.11621732570230961\n",
      "Train on 4096 samples, validate on 10000 samples\n",
      "4096/4096 [==============================] - 2s 444us/sample - loss: 0.0589 - val_loss: 0.1038\n",
      "Iteration 8 Train Loss 0.05885251029576466 Val Loss 0.10378480110317469\n",
      "Train on 4096 samples, validate on 10000 samples\n",
      "4096/4096 [==============================] - 2s 446us/sample - loss: 0.1975 - val_loss: 0.1299\n",
      "Iteration 9 Train Loss 0.19748372133472003 Val Loss 0.1299012542143464\n",
      "Train on 4096 samples, validate on 10000 samples\n",
      "4096/4096 [==============================] - 2s 448us/sample - loss: 0.0644 - val_loss: 0.1046\n",
      "Iteration 10 Train Loss 0.06441799640379031 Val Loss 0.1046020432934165\n",
      "Train on 4096 samples, validate on 10000 samples\n",
      "4096/4096 [==============================] - 2s 453us/sample - loss: 0.0529 - val_loss: 0.0986\n",
      "Iteration 11 Train Loss 0.05285481935061398 Val Loss 0.098613949008286\n",
      "Train on 4096 samples, validate on 10000 samples\n",
      "4096/4096 [==============================] - 2s 449us/sample - loss: 0.0521 - val_loss: 0.0939\n",
      "Iteration 12 Train Loss 0.05209015163109143 Val Loss 0.09385951831936837\n",
      "Train on 4096 samples, validate on 10000 samples\n",
      "4096/4096 [==============================] - 2s 447us/sample - loss: 0.0505 - val_loss: 0.0895\n",
      "Iteration 13 Train Loss 0.0504586999586536 Val Loss 0.08951658014208079\n",
      "Train on 4096 samples, validate on 10000 samples\n",
      "4096/4096 [==============================] - 2s 453us/sample - loss: 0.1930 - val_loss: 0.0956\n",
      "Iteration 14 Train Loss 0.1929605281475233 Val Loss 0.09563250537961722\n",
      "Train on 4096 samples, validate on 10000 samples\n",
      "4096/4096 [==============================] - 2s 453us/sample - loss: 0.0573 - val_loss: 0.0847\n",
      "Iteration 15 Train Loss 0.05728250164065685 Val Loss 0.08472456553950906\n",
      "Train on 4096 samples, validate on 10000 samples\n",
      "4096/4096 [==============================] - 2s 450us/sample - loss: 0.0510 - val_loss: 0.0800\n",
      "Iteration 16 Train Loss 0.051041968019490014 Val Loss 0.0800030443817377\n",
      "Train on 4096 samples, validate on 10000 samples\n",
      "4096/4096 [==============================] - 2s 454us/sample - loss: 0.0476 - val_loss: 0.0810\n",
      "Iteration 17 Train Loss 0.04764220969263988 Val Loss 0.08098950788378716\n",
      "Train on 4096 samples, validate on 10000 samples\n",
      "4096/4096 [==============================] - 2s 457us/sample - loss: 0.0457 - val_loss: 0.0773\n",
      "Iteration 18 Train Loss 0.04570672319823643 Val Loss 0.07726815324276685\n",
      "Train on 4096 samples, validate on 10000 samples\n",
      "4096/4096 [==============================] - 2s 449us/sample - loss: 0.1962 - val_loss: 0.1015\n",
      "Iteration 19 Train Loss 0.1961759699115646 Val Loss 0.10147015295922757\n",
      "Train on 4096 samples, validate on 10000 samples\n",
      "4096/4096 [==============================] - 2s 450us/sample - loss: 0.0573 - val_loss: 0.1002\n",
      "Iteration 20 Train Loss 0.05731278532584838 Val Loss 0.1001917351782322\n",
      "Train on 4096 samples, validate on 10000 samples\n",
      "4096/4096 [==============================] - 2s 446us/sample - loss: 0.0462 - val_loss: 0.0755\n",
      "Iteration 21 Train Loss 0.04624314860666345 Val Loss 0.07552936863154174\n",
      "Train on 4096 samples, validate on 10000 samples\n",
      "4096/4096 [==============================] - 2s 450us/sample - loss: 0.0437 - val_loss: 0.0917\n",
      "Iteration 22 Train Loss 0.04369062094701803 Val Loss 0.09168415166437625\n",
      "Train on 4096 samples, validate on 10000 samples\n",
      "4096/4096 [==============================] - 2s 441us/sample - loss: 0.0456 - val_loss: 0.0748\n",
      "Iteration 23 Train Loss 0.04562336051276361 Val Loss 0.07484651437029242\n",
      "Train on 4096 samples, validate on 10000 samples\n",
      "4096/4096 [==============================] - 2s 454us/sample - loss: 0.1845 - val_loss: 0.0995\n",
      "Iteration 24 Train Loss 0.18450883775221882 Val Loss 0.09949316285550594\n",
      "Train on 4096 samples, validate on 10000 samples\n",
      "4096/4096 [==============================] - 2s 449us/sample - loss: 0.0527 - val_loss: 0.0753\n",
      "Iteration 25 Train Loss 0.0527364015861167 Val Loss 0.07528217028826475\n",
      "Train on 4096 samples, validate on 10000 samples\n",
      "4096/4096 [==============================] - 2s 451us/sample - loss: 0.0437 - val_loss: 0.0716\n",
      "Iteration 26 Train Loss 0.04374297077356459 Val Loss 0.07164659334346651\n",
      "Train on 4096 samples, validate on 10000 samples\n",
      "4096/4096 [==============================] - 2s 448us/sample - loss: 0.0421 - val_loss: 0.0734\n",
      "Iteration 27 Train Loss 0.04211690120428102 Val Loss 0.07340850809589028\n",
      "Train on 4096 samples, validate on 10000 samples\n",
      "4096/4096 [==============================] - 2s 450us/sample - loss: 0.0435 - val_loss: 0.0713\n",
      "Iteration 28 Train Loss 0.04352446080520167 Val Loss 0.07131507355719804\n",
      "Train on 4096 samples, validate on 10000 samples\n",
      "4096/4096 [==============================] - 2s 452us/sample - loss: 0.1846 - val_loss: 0.1005\n",
      "Iteration 29 Train Loss 0.18459068658557953 Val Loss 0.10049175014719366\n",
      "Train on 4096 samples, validate on 10000 samples\n",
      "4096/4096 [==============================] - 2s 455us/sample - loss: 0.0469 - val_loss: 0.0967\n",
      "Iteration 30 Train Loss 0.04694111422304559 Val Loss 0.09668550899252296\n",
      "Train on 4096 samples, validate on 10000 samples\n",
      "4096/4096 [==============================] - 2s 450us/sample - loss: 0.0417 - val_loss: 0.0715\n",
      "Iteration 31 Train Loss 0.04173820821188201 Val Loss 0.07153429813683033\n",
      "Train on 4096 samples, validate on 10000 samples\n",
      "4096/4096 [==============================] - 2s 449us/sample - loss: 0.0382 - val_loss: 0.0713\n",
      "Iteration 32 Train Loss 0.03823186723548133 Val Loss 0.07134329659864307\n",
      "Train on 4096 samples, validate on 10000 samples\n",
      "4096/4096 [==============================] - 2s 448us/sample - loss: 0.0396 - val_loss: 0.0615\n",
      "Iteration 33 Train Loss 0.039597116332515725 Val Loss 0.061513752900063993\n",
      "Train on 4096 samples, validate on 10000 samples\n",
      "4096/4096 [==============================] - 2s 451us/sample - loss: 0.1755 - val_loss: 0.1022\n",
      "Iteration 34 Train Loss 0.1755144155686139 Val Loss 0.10218348829075694\n",
      "Train on 4096 samples, validate on 10000 samples\n",
      "4096/4096 [==============================] - 2s 449us/sample - loss: 0.0467 - val_loss: 0.0787\n",
      "Iteration 35 Train Loss 0.04670622033881955 Val Loss 0.078733263425529\n",
      "Train on 4096 samples, validate on 10000 samples\n",
      "4096/4096 [==============================] - 2s 451us/sample - loss: 0.0394 - val_loss: 0.0686\n",
      "Iteration 36 Train Loss 0.03935639715928119 Val Loss 0.06857499063014984\n",
      "Train on 4096 samples, validate on 10000 samples\n",
      "4096/4096 [==============================] - 2s 455us/sample - loss: 0.0408 - val_loss: 0.0727\n",
      "Iteration 37 Train Loss 0.04078342402135604 Val Loss 0.07266587391495705\n"
     ]
    },
    {
     "name": "stdout",
     "output_type": "stream",
     "text": [
      "Train on 4096 samples, validate on 10000 samples\n",
      "4096/4096 [==============================] - 2s 443us/sample - loss: 0.0395 - val_loss: 0.0625\n",
      "Iteration 38 Train Loss 0.039491958566031826 Val Loss 0.06254653895273804\n",
      "Train on 4096 samples, validate on 10000 samples\n",
      "4096/4096 [==============================] - 2s 451us/sample - loss: 0.1682 - val_loss: 0.0985\n",
      "Iteration 39 Train Loss 0.1681715991726378 Val Loss 0.09852281667292118\n",
      "Train on 4096 samples, validate on 10000 samples\n",
      "4096/4096 [==============================] - 2s 446us/sample - loss: 0.0435 - val_loss: 0.0678\n",
      "Iteration 40 Train Loss 0.04346104332489631 Val Loss 0.0677551593258977\n",
      "Train on 4096 samples, validate on 10000 samples\n",
      "4096/4096 [==============================] - 2s 450us/sample - loss: 0.0387 - val_loss: 0.0735\n",
      "Iteration 41 Train Loss 0.03866159720928408 Val Loss 0.07346912050619721\n",
      "Train on 4096 samples, validate on 10000 samples\n",
      "4096/4096 [==============================] - 2s 445us/sample - loss: 0.0391 - val_loss: 0.0826\n",
      "Iteration 42 Train Loss 0.039117065571190324 Val Loss 0.08255250301212072\n",
      "Train on 4096 samples, validate on 10000 samples\n",
      "4096/4096 [==============================] - 2s 430us/sample - loss: 0.0369 - val_loss: 0.0629\n",
      "Iteration 43 Train Loss 0.03691957262708456 Val Loss 0.06286909790709615\n",
      "Train on 4096 samples, validate on 10000 samples\n",
      "4096/4096 [==============================] - 2s 447us/sample - loss: 0.1583 - val_loss: 0.1010\n",
      "Iteration 44 Train Loss 0.15829459659653367 Val Loss 0.10103137431666255\n",
      "Train on 4096 samples, validate on 10000 samples\n",
      "4096/4096 [==============================] - 2s 448us/sample - loss: 0.0438 - val_loss: 0.0728\n",
      "Iteration 45 Train Loss 0.04379263971350156 Val Loss 0.07280559618026018\n",
      "Train on 4096 samples, validate on 10000 samples\n",
      "4096/4096 [==============================] - 2s 452us/sample - loss: 0.0362 - val_loss: 0.0668\n",
      "Iteration 46 Train Loss 0.03619480251290952 Val Loss 0.06676325740292668\n",
      "Train on 4096 samples, validate on 10000 samples\n",
      "4096/4096 [==============================] - 2s 448us/sample - loss: 0.0396 - val_loss: 0.0633\n",
      "Iteration 47 Train Loss 0.03957329557169942 Val Loss 0.06333890220150351\n",
      "Train on 4096 samples, validate on 10000 samples\n",
      "4096/4096 [==============================] - 2s 446us/sample - loss: 0.0367 - val_loss: 0.0659\n",
      "Iteration 48 Train Loss 0.03673439167550896 Val Loss 0.06594366149976849\n",
      "Train on 4096 samples, validate on 10000 samples\n",
      "4096/4096 [==============================] - 2s 453us/sample - loss: 0.1541 - val_loss: 0.1085\n",
      "Iteration 49 Train Loss 0.15407168570527574 Val Loss 0.1084854058176279\n",
      "Train on 4096 samples, validate on 10000 samples\n",
      "4096/4096 [==============================] - 2s 447us/sample - loss: 0.0422 - val_loss: 0.0737\n",
      "Iteration 50 Train Loss 0.0421720773783818 Val Loss 0.07371418802067638\n",
      "Train on 4096 samples, validate on 10000 samples\n",
      "4096/4096 [==============================] - 2s 457us/sample - loss: 0.0388 - val_loss: 0.0628\n",
      "Iteration 51 Train Loss 0.03878711019297043 Val Loss 0.0628487017005682\n",
      "Train on 4096 samples, validate on 10000 samples\n",
      "4096/4096 [==============================] - 2s 441us/sample - loss: 0.0378 - val_loss: 0.0570\n",
      "Iteration 52 Train Loss 0.037848690592909406 Val Loss 0.0570323715172708\n",
      "Train on 4096 samples, validate on 10000 samples\n",
      "4096/4096 [==============================] - 2s 448us/sample - loss: 0.0357 - val_loss: 0.0823\n",
      "Iteration 53 Train Loss 0.03568312438437715 Val Loss 0.08229717893525958\n",
      "Train on 4096 samples, validate on 10000 samples\n",
      "4096/4096 [==============================] - 2s 449us/sample - loss: 0.1463 - val_loss: 0.1014\n",
      "Iteration 54 Train Loss 0.14629245968171745 Val Loss 0.10136738240718841\n",
      "Train on 4096 samples, validate on 10000 samples\n",
      "4096/4096 [==============================] - 2s 454us/sample - loss: 0.0393 - val_loss: 0.0641\n",
      "Iteration 55 Train Loss 0.03930466933434218 Val Loss 0.06410711256787181\n",
      "Train on 4096 samples, validate on 10000 samples\n",
      "4096/4096 [==============================] - 2s 454us/sample - loss: 0.0344 - val_loss: 0.0610\n",
      "Iteration 56 Train Loss 0.034432904228197 Val Loss 0.06100640147924423\n",
      "Train on 4096 samples, validate on 10000 samples\n",
      "4096/4096 [==============================] - 2s 454us/sample - loss: 0.0333 - val_loss: 0.0652\n",
      "Iteration 57 Train Loss 0.033315685177058185 Val Loss 0.06516861008480192\n",
      "Train on 4096 samples, validate on 10000 samples\n",
      "4096/4096 [==============================] - 2s 455us/sample - loss: 0.0363 - val_loss: 0.0581\n",
      "Iteration 58 Train Loss 0.03629981919311831 Val Loss 0.05805695375427604\n"
     ]
    },
    {
     "ename": "KeyboardInterrupt",
     "evalue": "",
     "output_type": "error",
     "traceback": [
      "\u001b[0;31m---------------------------------------------------------------------------\u001b[0m",
      "\u001b[0;31mKeyboardInterrupt\u001b[0m                         Traceback (most recent call last)",
      "\u001b[0;32m<ipython-input-15-3f85ec702572>\u001b[0m in \u001b[0;36m<module>\u001b[0;34m\u001b[0m\n\u001b[1;32m      9\u001b[0m \u001b[0;32mfor\u001b[0m \u001b[0miteration\u001b[0m \u001b[0;32min\u001b[0m \u001b[0mrange\u001b[0m\u001b[0;34m(\u001b[0m\u001b[0;36m100\u001b[0m\u001b[0;34m)\u001b[0m\u001b[0;34m:\u001b[0m\u001b[0;34m\u001b[0m\u001b[0;34m\u001b[0m\u001b[0m\n\u001b[1;32m     10\u001b[0m     \u001b[0;32mif\u001b[0m \u001b[0;34m(\u001b[0m\u001b[0miteration\u001b[0m \u001b[0;34m+\u001b[0m \u001b[0;36m1\u001b[0m\u001b[0;34m)\u001b[0m \u001b[0;34m%\u001b[0m \u001b[0;36m5\u001b[0m \u001b[0;34m==\u001b[0m \u001b[0;36m0\u001b[0m\u001b[0;34m:\u001b[0m\u001b[0;34m\u001b[0m\u001b[0;34m\u001b[0m\u001b[0m\n\u001b[0;32m---> 11\u001b[0;31m         \u001b[0mconfigs\u001b[0m\u001b[0;34m,\u001b[0m \u001b[0mexamples\u001b[0m \u001b[0;34m=\u001b[0m \u001b[0mget_naive_adversarial_loss\u001b[0m\u001b[0;34m(\u001b[0m\u001b[0menv\u001b[0m\u001b[0;34m,\u001b[0m \u001b[0msample_pick\u001b[0m\u001b[0;34m=\u001b[0m\u001b[0;36m128\u001b[0m\u001b[0;34m,\u001b[0m \u001b[0mtarget\u001b[0m\u001b[0;34m=\u001b[0m\u001b[0;36m4096\u001b[0m\u001b[0;34m)\u001b[0m\u001b[0;34m\u001b[0m\u001b[0;34m\u001b[0m\u001b[0m\n\u001b[0m\u001b[1;32m     12\u001b[0m     \u001b[0;32melse\u001b[0m\u001b[0;34m:\u001b[0m\u001b[0;34m\u001b[0m\u001b[0;34m\u001b[0m\u001b[0m\n\u001b[1;32m     13\u001b[0m         \u001b[0mconfigs\u001b[0m\u001b[0;34m,\u001b[0m \u001b[0mexamples\u001b[0m \u001b[0;34m=\u001b[0m \u001b[0mget_naive_adversarial_loss\u001b[0m\u001b[0;34m(\u001b[0m\u001b[0menv\u001b[0m\u001b[0;34m,\u001b[0m \u001b[0msample_pick\u001b[0m\u001b[0;34m=\u001b[0m\u001b[0;36m4096\u001b[0m\u001b[0;34m,\u001b[0m \u001b[0mtarget\u001b[0m\u001b[0;34m=\u001b[0m\u001b[0;36m4096\u001b[0m\u001b[0;34m)\u001b[0m\u001b[0;34m\u001b[0m\u001b[0;34m\u001b[0m\u001b[0m\n",
      "\u001b[0;32m~/Projects/initphysics/experiments/playconf/rl.py\u001b[0m in \u001b[0;36mget_naive_adversarial_loss\u001b[0;34m(env, sample_pick, target)\u001b[0m\n\u001b[1;32m     94\u001b[0m     \u001b[0;32mwhile\u001b[0m \u001b[0mlen\u001b[0m\u001b[0;34m(\u001b[0m\u001b[0mrv\u001b[0m\u001b[0;34m)\u001b[0m \u001b[0;34m<\u001b[0m \u001b[0mtarget\u001b[0m\u001b[0;34m:\u001b[0m\u001b[0;34m\u001b[0m\u001b[0;34m\u001b[0m\u001b[0m\n\u001b[1;32m     95\u001b[0m         \u001b[0mreach\u001b[0m \u001b[0;34m=\u001b[0m \u001b[0mmin\u001b[0m\u001b[0;34m(\u001b[0m\u001b[0mtarget\u001b[0m \u001b[0;34m-\u001b[0m \u001b[0mlen\u001b[0m\u001b[0;34m(\u001b[0m\u001b[0mrv\u001b[0m\u001b[0;34m)\u001b[0m\u001b[0;34m,\u001b[0m \u001b[0msample_pick\u001b[0m\u001b[0;34m)\u001b[0m\u001b[0;34m\u001b[0m\u001b[0;34m\u001b[0m\u001b[0m\n\u001b[0;32m---> 96\u001b[0;31m         \u001b[0mrewards\u001b[0m\u001b[0;34m,\u001b[0m \u001b[0mconfigurations\u001b[0m\u001b[0;34m,\u001b[0m \u001b[0mactual\u001b[0m \u001b[0;34m=\u001b[0m \u001b[0mget_random_experience\u001b[0m\u001b[0;34m(\u001b[0m\u001b[0menv\u001b[0m\u001b[0;34m)\u001b[0m\u001b[0;34m\u001b[0m\u001b[0;34m\u001b[0m\u001b[0m\n\u001b[0m\u001b[1;32m     97\u001b[0m \u001b[0;34m\u001b[0m\u001b[0m\n\u001b[1;32m     98\u001b[0m         \u001b[0mworst_configs\u001b[0m \u001b[0;34m=\u001b[0m \u001b[0mconfigurations\u001b[0m\u001b[0;34m[\u001b[0m\u001b[0mrewards\u001b[0m\u001b[0;34m.\u001b[0m\u001b[0margsort\u001b[0m\u001b[0;34m(\u001b[0m\u001b[0;34m)\u001b[0m\u001b[0;34m]\u001b[0m\u001b[0;34m[\u001b[0m\u001b[0;34m:\u001b[0m\u001b[0;34m:\u001b[0m\u001b[0;34m-\u001b[0m\u001b[0;36m1\u001b[0m\u001b[0;34m]\u001b[0m\u001b[0;34m\u001b[0m\u001b[0;34m\u001b[0m\u001b[0m\n",
      "\u001b[0;32m~/Projects/initphysics/experiments/playconf/rl.py\u001b[0m in \u001b[0;36mget_random_experience\u001b[0;34m(environment)\u001b[0m\n\u001b[1;32m     83\u001b[0m     \u001b[0;31m# configurations = np.array(confs)\u001b[0m\u001b[0;34m\u001b[0m\u001b[0;34m\u001b[0m\u001b[0;34m\u001b[0m\u001b[0m\n\u001b[1;32m     84\u001b[0m \u001b[0;34m\u001b[0m\u001b[0m\n\u001b[0;32m---> 85\u001b[0;31m     \u001b[0mrewards\u001b[0m\u001b[0;34m,\u001b[0m \u001b[0mactual\u001b[0m\u001b[0;34m,\u001b[0m \u001b[0mpredicted\u001b[0m \u001b[0;34m=\u001b[0m \u001b[0menvironment\u001b[0m\u001b[0;34m.\u001b[0m\u001b[0mget_reward\u001b[0m\u001b[0;34m(\u001b[0m\u001b[0mconfigurations\u001b[0m\u001b[0;34m)\u001b[0m\u001b[0;34m\u001b[0m\u001b[0;34m\u001b[0m\u001b[0m\n\u001b[0m\u001b[1;32m     86\u001b[0m \u001b[0;34m\u001b[0m\u001b[0m\n\u001b[1;32m     87\u001b[0m     \u001b[0;32mreturn\u001b[0m \u001b[0mrewards\u001b[0m\u001b[0;34m,\u001b[0m \u001b[0mconfigurations\u001b[0m\u001b[0;34m,\u001b[0m \u001b[0mactual\u001b[0m\u001b[0;34m\u001b[0m\u001b[0;34m\u001b[0m\u001b[0m\n",
      "\u001b[0;32m~/Projects/initphysics/experiments/playconf/environment.py\u001b[0m in \u001b[0;36mget_reward\u001b[0;34m(self, configurations)\u001b[0m\n\u001b[1;32m    111\u001b[0m         \u001b[0;32mfor\u001b[0m \u001b[0ms_i\u001b[0m\u001b[0;34m,\u001b[0m \u001b[0mscene\u001b[0m \u001b[0;32min\u001b[0m \u001b[0menumerate\u001b[0m\u001b[0;34m(\u001b[0m\u001b[0mself\u001b[0m\u001b[0;34m.\u001b[0m\u001b[0mscenes\u001b[0m\u001b[0;34m)\u001b[0m\u001b[0;34m:\u001b[0m\u001b[0;34m\u001b[0m\u001b[0;34m\u001b[0m\u001b[0m\n\u001b[1;32m    112\u001b[0m             \u001b[0mconfiguration\u001b[0m \u001b[0;34m=\u001b[0m \u001b[0mconfigurations\u001b[0m\u001b[0;34m[\u001b[0m\u001b[0ms_i\u001b[0m\u001b[0;34m]\u001b[0m\u001b[0;34m\u001b[0m\u001b[0;34m\u001b[0m\u001b[0m\n\u001b[0;32m--> 113\u001b[0;31m             \u001b[0minitialize_scene_from_configuration\u001b[0m\u001b[0;34m(\u001b[0m\u001b[0mscene\u001b[0m\u001b[0;34m,\u001b[0m \u001b[0mconfiguration\u001b[0m\u001b[0;34m)\u001b[0m\u001b[0;34m\u001b[0m\u001b[0;34m\u001b[0m\u001b[0m\n\u001b[0m\u001b[1;32m    114\u001b[0m \u001b[0;34m\u001b[0m\u001b[0m\n\u001b[1;32m    115\u001b[0m         \u001b[0;31m# Generate trajectories.\u001b[0m\u001b[0;34m\u001b[0m\u001b[0;34m\u001b[0m\u001b[0;34m\u001b[0m\u001b[0m\n",
      "\u001b[0;32m~/Projects/initphysics/experiments/playconf/environment.py\u001b[0m in \u001b[0;36minitialize_scene_from_configuration\u001b[0;34m(scene, configuration)\u001b[0m\n\u001b[1;32m     37\u001b[0m             \u001b[0mx\u001b[0m\u001b[0;34m,\u001b[0m \u001b[0my\u001b[0m\u001b[0;34m,\u001b[0m \u001b[0mscene\u001b[0m\u001b[0;34m.\u001b[0m\u001b[0mwidth\u001b[0m\u001b[0;34m,\u001b[0m \u001b[0mscene\u001b[0m\u001b[0;34m.\u001b[0m\u001b[0mheight\u001b[0m\u001b[0;34m,\u001b[0m \u001b[0mscene\u001b[0m\u001b[0;34m.\u001b[0m\u001b[0mradius\u001b[0m\u001b[0;34m\u001b[0m\u001b[0;34m\u001b[0m\u001b[0m\n\u001b[1;32m     38\u001b[0m         )\n\u001b[0;32m---> 39\u001b[0;31m         \u001b[0mcircle\u001b[0m\u001b[0;34m.\u001b[0m\u001b[0mvelocity\u001b[0m \u001b[0;34m=\u001b[0m \u001b[0mconfiguration_to_velocity\u001b[0m\u001b[0;34m(\u001b[0m\u001b[0mvx\u001b[0m\u001b[0;34m,\u001b[0m \u001b[0mvy\u001b[0m\u001b[0;34m)\u001b[0m\u001b[0;34m\u001b[0m\u001b[0;34m\u001b[0m\u001b[0m\n\u001b[0m\u001b[1;32m     40\u001b[0m \u001b[0;34m\u001b[0m\u001b[0m\n\u001b[1;32m     41\u001b[0m     \u001b[0;31m# Buffer step to correct for collisions.\u001b[0m\u001b[0;34m\u001b[0m\u001b[0;34m\u001b[0m\u001b[0;34m\u001b[0m\u001b[0m\n",
      "\u001b[0;32m~/Projects/initphysics/experiments/playconf/environment.py\u001b[0m in \u001b[0;36mconfiguration_to_velocity\u001b[0;34m(vx, vy)\u001b[0m\n\u001b[1;32m     24\u001b[0m \u001b[0;32mdef\u001b[0m \u001b[0mconfiguration_to_velocity\u001b[0m\u001b[0;34m(\u001b[0m\u001b[0mvx\u001b[0m\u001b[0;34m,\u001b[0m \u001b[0mvy\u001b[0m\u001b[0;34m)\u001b[0m\u001b[0;34m:\u001b[0m\u001b[0;34m\u001b[0m\u001b[0;34m\u001b[0m\u001b[0m\n\u001b[1;32m     25\u001b[0m     \u001b[0;31m# Scale the velocity.\u001b[0m\u001b[0;34m\u001b[0m\u001b[0;34m\u001b[0m\u001b[0;34m\u001b[0m\u001b[0m\n\u001b[0;32m---> 26\u001b[0;31m     \u001b[0mvx\u001b[0m \u001b[0;34m=\u001b[0m \u001b[0mnp\u001b[0m\u001b[0;34m.\u001b[0m\u001b[0mclip\u001b[0m\u001b[0;34m(\u001b[0m\u001b[0mvx\u001b[0m\u001b[0;34m,\u001b[0m \u001b[0;36m0\u001b[0m\u001b[0;34m,\u001b[0m \u001b[0;36m1\u001b[0m\u001b[0;34m)\u001b[0m\u001b[0;34m\u001b[0m\u001b[0;34m\u001b[0m\u001b[0m\n\u001b[0m\u001b[1;32m     27\u001b[0m     \u001b[0mvy\u001b[0m \u001b[0;34m=\u001b[0m \u001b[0mnp\u001b[0m\u001b[0;34m.\u001b[0m\u001b[0mclip\u001b[0m\u001b[0;34m(\u001b[0m\u001b[0mvy\u001b[0m\u001b[0;34m,\u001b[0m \u001b[0;36m0\u001b[0m\u001b[0;34m,\u001b[0m \u001b[0;36m1\u001b[0m\u001b[0;34m)\u001b[0m\u001b[0;34m\u001b[0m\u001b[0;34m\u001b[0m\u001b[0m\n\u001b[1;32m     28\u001b[0m \u001b[0;34m\u001b[0m\u001b[0m\n",
      "\u001b[0;32m<__array_function__ internals>\u001b[0m in \u001b[0;36mclip\u001b[0;34m(*args, **kwargs)\u001b[0m\n",
      "\u001b[0;32m~/anaconda3/envs/tensorflow2/lib/python3.7/site-packages/numpy/core/fromnumeric.py\u001b[0m in \u001b[0;36mclip\u001b[0;34m(a, a_min, a_max, out, **kwargs)\u001b[0m\n\u001b[1;32m   2035\u001b[0m \u001b[0;34m\u001b[0m\u001b[0m\n\u001b[1;32m   2036\u001b[0m     \"\"\"\n\u001b[0;32m-> 2037\u001b[0;31m     \u001b[0;32mreturn\u001b[0m \u001b[0m_wrapfunc\u001b[0m\u001b[0;34m(\u001b[0m\u001b[0ma\u001b[0m\u001b[0;34m,\u001b[0m \u001b[0;34m'clip'\u001b[0m\u001b[0;34m,\u001b[0m \u001b[0ma_min\u001b[0m\u001b[0;34m,\u001b[0m \u001b[0ma_max\u001b[0m\u001b[0;34m,\u001b[0m \u001b[0mout\u001b[0m\u001b[0;34m=\u001b[0m\u001b[0mout\u001b[0m\u001b[0;34m,\u001b[0m \u001b[0;34m**\u001b[0m\u001b[0mkwargs\u001b[0m\u001b[0;34m)\u001b[0m\u001b[0;34m\u001b[0m\u001b[0;34m\u001b[0m\u001b[0m\n\u001b[0m\u001b[1;32m   2038\u001b[0m \u001b[0;34m\u001b[0m\u001b[0m\n\u001b[1;32m   2039\u001b[0m \u001b[0;34m\u001b[0m\u001b[0m\n",
      "\u001b[0;32m~/anaconda3/envs/tensorflow2/lib/python3.7/site-packages/numpy/core/fromnumeric.py\u001b[0m in \u001b[0;36m_wrapfunc\u001b[0;34m(obj, method, *args, **kwds)\u001b[0m\n\u001b[1;32m     59\u001b[0m \u001b[0;34m\u001b[0m\u001b[0m\n\u001b[1;32m     60\u001b[0m     \u001b[0;32mtry\u001b[0m\u001b[0;34m:\u001b[0m\u001b[0;34m\u001b[0m\u001b[0;34m\u001b[0m\u001b[0m\n\u001b[0;32m---> 61\u001b[0;31m         \u001b[0;32mreturn\u001b[0m \u001b[0mbound\u001b[0m\u001b[0;34m(\u001b[0m\u001b[0;34m*\u001b[0m\u001b[0margs\u001b[0m\u001b[0;34m,\u001b[0m \u001b[0;34m**\u001b[0m\u001b[0mkwds\u001b[0m\u001b[0;34m)\u001b[0m\u001b[0;34m\u001b[0m\u001b[0;34m\u001b[0m\u001b[0m\n\u001b[0m\u001b[1;32m     62\u001b[0m     \u001b[0;32mexcept\u001b[0m \u001b[0mTypeError\u001b[0m\u001b[0;34m:\u001b[0m\u001b[0;34m\u001b[0m\u001b[0;34m\u001b[0m\u001b[0m\n\u001b[1;32m     63\u001b[0m         \u001b[0;31m# A TypeError occurs if the object does have such a method in its\u001b[0m\u001b[0;34m\u001b[0m\u001b[0;34m\u001b[0m\u001b[0;34m\u001b[0m\u001b[0m\n",
      "\u001b[0;32m~/anaconda3/envs/tensorflow2/lib/python3.7/site-packages/numpy/core/_methods.py\u001b[0m in \u001b[0;36m_clip\u001b[0;34m(a, min, max, out, casting, **kwargs)\u001b[0m\n\u001b[1;32m    107\u001b[0m             \u001b[0mmin\u001b[0m \u001b[0;34m=\u001b[0m \u001b[0;34m-\u001b[0m\u001b[0mfloat\u001b[0m\u001b[0;34m(\u001b[0m\u001b[0;34m'inf'\u001b[0m\u001b[0;34m)\u001b[0m\u001b[0;34m\u001b[0m\u001b[0;34m\u001b[0m\u001b[0m\n\u001b[1;32m    108\u001b[0m             \u001b[0musing_deprecated_nan\u001b[0m \u001b[0;34m=\u001b[0m \u001b[0;32mTrue\u001b[0m\u001b[0;34m\u001b[0m\u001b[0;34m\u001b[0m\u001b[0m\n\u001b[0;32m--> 109\u001b[0;31m         \u001b[0;32mif\u001b[0m \u001b[0m_clip_dep_is_scalar_nan\u001b[0m\u001b[0;34m(\u001b[0m\u001b[0mmax\u001b[0m\u001b[0;34m)\u001b[0m\u001b[0;34m:\u001b[0m\u001b[0;34m\u001b[0m\u001b[0;34m\u001b[0m\u001b[0m\n\u001b[0m\u001b[1;32m    110\u001b[0m             \u001b[0mmax\u001b[0m \u001b[0;34m=\u001b[0m \u001b[0mfloat\u001b[0m\u001b[0;34m(\u001b[0m\u001b[0;34m'inf'\u001b[0m\u001b[0;34m)\u001b[0m\u001b[0;34m\u001b[0m\u001b[0;34m\u001b[0m\u001b[0m\n\u001b[1;32m    111\u001b[0m             \u001b[0musing_deprecated_nan\u001b[0m \u001b[0;34m=\u001b[0m \u001b[0;32mTrue\u001b[0m\u001b[0;34m\u001b[0m\u001b[0;34m\u001b[0m\u001b[0m\n",
      "\u001b[0;32m~/anaconda3/envs/tensorflow2/lib/python3.7/site-packages/numpy/core/_methods.py\u001b[0m in \u001b[0;36m_clip_dep_is_scalar_nan\u001b[0;34m(a)\u001b[0m\n\u001b[1;32m     64\u001b[0m     \u001b[0;31m# guarded to protect circular imports\u001b[0m\u001b[0;34m\u001b[0m\u001b[0;34m\u001b[0m\u001b[0;34m\u001b[0m\u001b[0m\n\u001b[1;32m     65\u001b[0m     \u001b[0;32mfrom\u001b[0m \u001b[0mnumpy\u001b[0m\u001b[0;34m.\u001b[0m\u001b[0mcore\u001b[0m\u001b[0;34m.\u001b[0m\u001b[0mfromnumeric\u001b[0m \u001b[0;32mimport\u001b[0m \u001b[0mndim\u001b[0m\u001b[0;34m\u001b[0m\u001b[0;34m\u001b[0m\u001b[0m\n\u001b[0;32m---> 66\u001b[0;31m     \u001b[0;32mif\u001b[0m \u001b[0mndim\u001b[0m\u001b[0;34m(\u001b[0m\u001b[0ma\u001b[0m\u001b[0;34m)\u001b[0m \u001b[0;34m!=\u001b[0m \u001b[0;36m0\u001b[0m\u001b[0;34m:\u001b[0m\u001b[0;34m\u001b[0m\u001b[0;34m\u001b[0m\u001b[0m\n\u001b[0m\u001b[1;32m     67\u001b[0m         \u001b[0;32mreturn\u001b[0m \u001b[0;32mFalse\u001b[0m\u001b[0;34m\u001b[0m\u001b[0;34m\u001b[0m\u001b[0m\n\u001b[1;32m     68\u001b[0m     \u001b[0;32mtry\u001b[0m\u001b[0;34m:\u001b[0m\u001b[0;34m\u001b[0m\u001b[0;34m\u001b[0m\u001b[0m\n",
      "\u001b[0;32m<__array_function__ internals>\u001b[0m in \u001b[0;36mndim\u001b[0;34m(*args, **kwargs)\u001b[0m\n",
      "\u001b[0;31mKeyboardInterrupt\u001b[0m: "
     ]
    }
   ],
   "source": [
    "opt = tf.keras.optimizers.RMSprop(learning_rate=0.0003)\n",
    "model.compile(loss='mse', optimizer=opt)\n",
    "\n",
    "losses = {\n",
    "    'train': [],\n",
    "    'val': [],\n",
    "}\n",
    "\n",
    "for iteration in range(100):\n",
    "    if (iteration + 1) % 5 == 0:\n",
    "        configs, examples = get_naive_adversarial_loss(env, sample_pick=128, target=4096)\n",
    "    else:\n",
    "        configs, examples = get_naive_adversarial_loss(env, sample_pick=4096, target=4096)\n",
    "    X, y = make_training(examples)\n",
    "    \n",
    "    show_simulation(model, length=10)\n",
    "    \n",
    "    history = model.fit(X, y, validation_data=(b_val_x, np.array(val_y)), epochs=1, batch_size=50)\n",
    "    \n",
    "    train_loss = history.history['loss'][-1]\n",
    "    val_loss = history.history['val_loss'][-1]\n",
    "    \n",
    "    losses['train'].append(train_loss)\n",
    "    losses['val'].append(val_loss)\n",
    "    \n",
    "    print('Iteration', iteration, 'Train Loss', train_loss, 'Val Loss', val_loss)"
   ]
  },
  {
   "cell_type": "code",
   "execution_count": 59,
   "metadata": {},
   "outputs": [
    {
     "data": {
      "text/plain": [
       "[<matplotlib.lines.Line2D at 0x7f849df90e90>]"
      ]
     },
     "execution_count": 59,
     "metadata": {},
     "output_type": "execute_result"
    },
    {
     "data": {
      "image/png": "[encoded data removed]",
      "text/plain": [
       "<Figure size 432x288 with 1 Axes>"
      ]
     },
     "metadata": {
      "needs_background": "light"
     },
     "output_type": "display_data"
    }
   ],
   "source": [
    "plt.plot(losses['val'])"
   ]
  },
  {
   "cell_type": "code",
   "execution_count": 16,
   "metadata": {},
   "outputs": [
    {
     "data": {
      "text/plain": [
       "[<matplotlib.lines.Line2D at 0x7f0e5857f210>]"
      ]
     },
     "execution_count": 16,
     "metadata": {},
     "output_type": "execute_result"
    },
    {
     "data": {
      "image/png": "[encoded data removed]",
      "text/plain": [
       "<Figure size 432x288 with 1 Axes>"
      ]
     },
     "metadata": {
      "needs_background": "light"
     },
     "output_type": "display_data"
    }
   ],
   "source": [
    "plt.plot(baseline['val'])\n",
    "#plt.plot(exp1_losses['val'])\n",
    "plt.plot(losses['val'])"
   ]
  },
  {
   "cell_type": "code",
   "execution_count": 5,
   "metadata": {},
   "outputs": [],
   "source": [
    "with open('random_baseline_losses.p', 'rb') as f:\n",
    "    baseline = pickle.load(f)"
   ]
  },
  {
   "cell_type": "code",
   "execution_count": 62,
   "metadata": {},
   "outputs": [],
   "source": [
    "exp1_losses = losses.copy()"
   ]
  },
  {
   "cell_type": "code",
   "execution_count": null,
   "metadata": {},
   "outputs": [],
   "source": []
  }
 ],
 "metadata": {
  "kernelspec": {
   "display_name": "Python 3",
   "language": "python",
   "name": "python3"
  },
  "language_info": {
   "codemirror_mode": {
    "name": "ipython",
    "version": 3
   },
   "file_extension": ".py",
   "mimetype": "text/x-python",
   "name": "python",
   "nbconvert_exporter": "python",
   "pygments_lexer": "ipython3",
   "version": "3.7.4"
  }
 },
 "nbformat": 4,
 "nbformat_minor": 2
}
