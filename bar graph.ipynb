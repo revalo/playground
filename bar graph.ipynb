{
 "cells": [
  {
   "cell_type": "code",
   "execution_count": 1,
   "metadata": {},
   "outputs": [],
   "source": [
    "import numpy as np\n",
    "import matplotlib.pyplot as plt"
   ]
  },
  {
   "cell_type": "code",
   "execution_count": 29,
   "metadata": {},
   "outputs": [
    {
     "data": {
      "image/png": "[encoded data removed]",
      "text/plain": [
       "<Figure size 432x288 with 1 Axes>"
      ]
     },
     "metadata": {
      "needs_background": "light"
     },
     "output_type": "display_data"
    }
   ],
   "source": [
    "N = 14\n",
    "men_means = np.array((1.2, 2.9, 6.125, 3.7, 3.775, 2.225, 6.55, 3.65, 3.55, 2.9, 3.075, 3.6, 3.6, 2.775))\n",
    "women_means = np.array((1,1,7,1,7,1,7,7,7,1,1,1,7,1))\n",
    "errs = np.array([0.5638694157, 1.565657067, 1.042371556, 1.539230577, 1.804375025, 1.120611097, 1.299901377, 1.594059485, 1.663329993, 1.296939198, 1.4743534, 1.373746515, 1.736486284, 1.404890725])\n",
    "\n",
    "s = women_means.argsort()\n",
    "\n",
    "men_means = men_means[s]\n",
    "women_means = women_means[s]\n",
    "errs = errs[s]\n",
    "\n",
    "ind = np.arange(N) \n",
    "\n",
    "width = 0.35       \n",
    "plt.bar(ind, men_means, width, yerr=errs, ecolor='black', capsize=2, label='Human')\n",
    "plt.bar(ind + width, women_means, width,\n",
    "    label='Ground Truth')\n",
    "\n",
    "plt.ylabel('Scores')\n",
    "plt.xlabel('Tower Number')\n",
    "\n",
    "plt.xticks(ind + width / 2, s)\n",
    "plt.legend(loc='best')\n",
    "\n",
    "plt.savefig('human.svg')"
   ]
  },
  {
   "cell_type": "code",
   "execution_count": null,
   "metadata": {},
   "outputs": [],
   "source": []
  }
 ],
 "metadata": {
  "kernelspec": {
   "display_name": "Python 3",
   "language": "python",
   "name": "python3"
  },
  "language_info": {
   "codemirror_mode": {
    "name": "ipython",
    "version": 3
   },
   "file_extension": ".py",
   "mimetype": "text/x-python",
   "name": "python",
   "nbconvert_exporter": "python",
   "pygments_lexer": "ipython3",
   "version": "3.7.4"
  }
 },
 "nbformat": 4,
 "nbformat_minor": 2
}
